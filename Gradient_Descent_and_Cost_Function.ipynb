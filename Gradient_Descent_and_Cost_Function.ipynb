{
  "nbformat": 4,
  "nbformat_minor": 0,
  "metadata": {
    "colab": {
      "provenance": [],
      "authorship_tag": "ABX9TyOt2rllhM7yj1jL+clQxydp",
      "include_colab_link": true
    },
    "kernelspec": {
      "name": "python3",
      "display_name": "Python 3"
    },
    "language_info": {
      "name": "python"
    }
  },
  "cells": [
    {
      "cell_type": "markdown",
      "metadata": {
        "id": "view-in-github",
        "colab_type": "text"
      },
      "source": [
        "<a href=\"https://colab.research.google.com/github/Anushka091922/Deep_Learning_tutorial/blob/main/Gradient_Descent_and_Cost_Function.ipynb\" target=\"_parent\"><img src=\"https://colab.research.google.com/assets/colab-badge.svg\" alt=\"Open In Colab\"/></a>"
      ]
    },
    {
      "cell_type": "code",
      "execution_count": null,
      "metadata": {
        "id": "MwQBUe0TF9sO"
      },
      "outputs": [],
      "source": []
    },
    {
      "cell_type": "markdown",
      "source": [
        "#what is the prediction function? and how can it be calcuated"
      ],
      "metadata": {
        "id": "Lwi-0u67O294"
      }
    },
    {
      "cell_type": "code",
      "source": [
        "# here based on the inpput and the outputs we find out the equation (learn more about this )\n"
      ],
      "metadata": {
        "id": "RV-CfQypO_Kj"
      },
      "execution_count": null,
      "outputs": []
    },
    {
      "cell_type": "markdown",
      "source": [
        "#Gradient Descent and Cost Function"
      ],
      "metadata": {
        "id": "VOXv8ygJPXSI"
      }
    },
    {
      "cell_type": "code",
      "source": [
        "# learn from the screen shots of the lectures"
      ],
      "metadata": {
        "id": "fyDB6_g7PYpo"
      },
      "execution_count": null,
      "outputs": []
    }
  ]
}